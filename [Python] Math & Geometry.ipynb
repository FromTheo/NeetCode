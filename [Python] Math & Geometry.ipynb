{
 "cells": [
  {
   "cell_type": "markdown",
   "id": "8e4eaf43",
   "metadata": {},
   "source": [
    "# Math & Geometry "
   ]
  },
  {
   "cell_type": "markdown",
   "id": "beacef53",
   "metadata": {},
   "source": [
    "## Table of contents : "
   ]
  },
  {
   "cell_type": "markdown",
   "id": "6498ec36",
   "metadata": {},
   "source": [
    "- [Rotate Matrix](#part1)\n",
    "- [Spiral Matrix](#part2)\n",
    "- [Set Zeros in Matrix](#part3) \n",
    "- [Happy Number](#part4)\n",
    "- [Plus One](#part5)\n",
    "- [Pow$(x,n)$](#part6)\n",
    "- [Multiply Strings](#part7)\n",
    "- [Count Squares](#part8)"
   ]
  },
  {
   "cell_type": "markdown",
   "id": "5761f96e",
   "metadata": {},
   "source": [
    "### Rotate Matrix. <a id=\"part1\"></a>"
   ]
  },
  {
   "cell_type": "markdown",
   "id": "18b08304",
   "metadata": {},
   "source": [
    "Given a square $n \\times n$ matrix of integers `matrix`, rotate it by $90$ degrees clockwise."
   ]
  },
  {
   "cell_type": "code",
   "execution_count": 75,
   "id": "36071f10",
   "metadata": {},
   "outputs": [],
   "source": [
    "def rotate(matrix):\n",
    "    row = len(matrix)\n",
    "    #Transpose the matrix. \n",
    "    for i in range(row):\n",
    "        for j in range(i + 1):\n",
    "            matrix[i][j], matrix[j][i] = matrix[j][i], matrix[i][j]\n",
    "    \n",
    "    #Reverse each row.\n",
    "    for i in range(row):\n",
    "        matrix[i].reverse()"
   ]
  },
  {
   "cell_type": "code",
   "execution_count": 77,
   "id": "7c7510cc",
   "metadata": {},
   "outputs": [
    {
     "name": "stdout",
     "output_type": "stream",
     "text": [
      "[[3, 1], [4, 2]]\n",
      "[[7, 4, 1], [8, 5, 2], [9, 6, 3]]\n"
     ]
    }
   ],
   "source": [
    "matrix = [[1,2],[3,4]]\n",
    "rotate(matrix)\n",
    "print(matrix)\n",
    "\n",
    "matrix = [[1,2,3],[4,5,6],[7,8,9]]\n",
    "rotate(matrix)\n",
    "print(matrix)"
   ]
  },
  {
   "cell_type": "markdown",
   "id": "194fef94",
   "metadata": {},
   "source": [
    "### Spiral Matrix. <a id=\"part2\"></a>"
   ]
  },
  {
   "cell_type": "markdown",
   "id": "4f453ac4",
   "metadata": {},
   "source": [
    "Given an $m \\times n$ matrix of integers `matrix`, return a list of all elements within the matrix in spiral order."
   ]
  },
  {
   "cell_type": "code",
   "execution_count": 82,
   "id": "028db14d",
   "metadata": {},
   "outputs": [],
   "source": [
    "def spiral_order(matrix):\n",
    "    if not matrix:\n",
    "        return []\n",
    "\n",
    "    result = []\n",
    "    m = len(matrix)      # Numner of rows. \n",
    "    n = len(matrix[0])   # Number of cols. \n",
    "\n",
    "    left, right = 0, n - 1\n",
    "    top, bottom = 0, m - 1\n",
    "\n",
    "    while left <= right and top <= bottom:\n",
    "        for i in range(left, right + 1):\n",
    "            result.append(matrix[top][i])\n",
    "        top += 1\n",
    "\n",
    "        for i in range(top, bottom + 1):\n",
    "            result.append(matrix[i][right])\n",
    "        right -= 1\n",
    "\n",
    "\n",
    "        if top <= bottom:\n",
    "            for i in range(right, left - 1, -1):\n",
    "                result.append(matrix[bottom][i])\n",
    "            bottom -= 1\n",
    "\n",
    "        if left <= right:  \n",
    "            for i in range(bottom, top - 1, -1):\n",
    "                result.append(matrix[i][left])\n",
    "            left += 1\n",
    "\n",
    "    return result"
   ]
  },
  {
   "cell_type": "code",
   "execution_count": 84,
   "id": "d256005b",
   "metadata": {},
   "outputs": [
    {
     "data": {
      "text/plain": [
       "[1, 2, 3, 4, 8, 12, 11, 10, 9, 5, 6, 7]"
      ]
     },
     "execution_count": 84,
     "metadata": {},
     "output_type": "execute_result"
    }
   ],
   "source": [
    "matrix = [[1,2,3,4],[5,6,7,8],[9,10,11,12]]\n",
    "spiral_order(matrix)"
   ]
  },
  {
   "cell_type": "markdown",
   "id": "24192f48",
   "metadata": {},
   "source": [
    "### Set Zeros in Matrix.<a id=\"part3\"></a>"
   ]
  },
  {
   "cell_type": "markdown",
   "id": "583b3132",
   "metadata": {},
   "source": [
    "Given an $m \\times n$ matrix of integers `matrix`, if an element is $0$, set its entire row and column to $0$'s.\n",
    "\n",
    "You must update the matrix in-place."
   ]
  },
  {
   "cell_type": "code",
   "execution_count": 68,
   "id": "39ff7ec6",
   "metadata": {},
   "outputs": [],
   "source": [
    "def setZeros(matrix) -> None : \n",
    "    \n",
    "    m = len(matrix)    #number of rows\n",
    "    n = len(matrix[0]) #number of cols\n",
    "    \n",
    "    a_enlever_colonnes = []\n",
    "    a_enlever_lignes = []\n",
    "    \n",
    "    for i in range (0, m) : \n",
    "        recherche = matrix[i]\n",
    "        for j in range(0, n) : \n",
    "            if recherche[j] == 0 : \n",
    "                a_enlever_colonnes.append(j)\n",
    "                a_enlever_lignes.append(i)\n",
    "                \n",
    "    for index in a_enlever_colonnes : \n",
    "        for j in range(0, m) : \n",
    "            matrix[j][index] = 0\n",
    "    \n",
    "    for index in a_enlever_lignes : \n",
    "        for i in range(0, n) : \n",
    "            matrix[index][i] = 0 "
   ]
  },
  {
   "cell_type": "code",
   "execution_count": 72,
   "id": "1065d811",
   "metadata": {},
   "outputs": [
    {
     "name": "stdout",
     "output_type": "stream",
     "text": [
      "[[1, 0, 3], [0, 0, 0], [6, 0, 8]]\n"
     ]
    }
   ],
   "source": [
    "matrix = [[1,2,3],[4,0,5],[6,7,8]]\n",
    "\n",
    "setZeros(matrix)\n",
    "print(matrix)"
   ]
  },
  {
   "cell_type": "markdown",
   "id": "620d0f80",
   "metadata": {},
   "source": [
    "### Happy Number. <a id=\"part4\"></a>"
   ]
  },
  {
   "cell_type": "markdown",
   "id": "b5397e51",
   "metadata": {},
   "source": [
    "A non-cyclical number is an integer defined by the following algorithm:\n",
    "\n",
    "- Given a positive integer, replace it with the sum of the squares of its digits.\n",
    "- Repeat the above step until the number equals $1$, or it loops infinitely in a cycle which does not include $1$.\n",
    "- If it stops at $1$, then the number is a non-cyclical number.\n",
    "Given a positive integer `n`, return `true` if it is a non-cyclical number, otherwise return `false`."
   ]
  },
  {
   "cell_type": "code",
   "execution_count": 22,
   "id": "231849eb",
   "metadata": {},
   "outputs": [],
   "source": [
    "def nextNumber(n):\n",
    "    new = 0\n",
    "    while n != 0:\n",
    "        num = n % 10\n",
    "        new += num * num\n",
    "        n //= 10  \n",
    "    return new"
   ]
  },
  {
   "cell_type": "code",
   "execution_count": 23,
   "id": "466955a5",
   "metadata": {},
   "outputs": [],
   "source": [
    "def isHappy(n) : \n",
    "    S = set()\n",
    "    while n != 1 and not n in S : \n",
    "        S.add(n)\n",
    "        n = nextNumber(n)\n",
    "    return n == 1 "
   ]
  },
  {
   "cell_type": "code",
   "execution_count": 28,
   "id": "ef34cf44",
   "metadata": {},
   "outputs": [
    {
     "name": "stdout",
     "output_type": "stream",
     "text": [
      "False\n",
      "True\n"
     ]
    }
   ],
   "source": [
    "print(isHappy(101))\n",
    "print(isHappy(100)) "
   ]
  },
  {
   "cell_type": "markdown",
   "id": "d4ecfda9",
   "metadata": {},
   "source": [
    "### Plus One. <a id=\"part5\"></a>"
   ]
  },
  {
   "cell_type": "markdown",
   "id": "62b9710b",
   "metadata": {},
   "source": [
    "You are given an integer array `digits`, where each `digits[i]` is the ith digit of a large integer. It is ordered from most significant to least significant digit, and it will not contain any leading zero.\n",
    "\n",
    "Return the digits of the given integer after incrementing it by one.\n",
    "\n"
   ]
  },
  {
   "cell_type": "code",
   "execution_count": 34,
   "id": "bf3637e4",
   "metadata": {},
   "outputs": [],
   "source": [
    "import numpy as np \n",
    "\n",
    "def plusOne(digits) :\n",
    "    \n",
    "    if digits[-1] != 9 : \n",
    "        digits[-1] += 1 \n",
    "        return digits\n",
    "    \n",
    "    else : \n",
    "        index = len(digits) - 1 \n",
    "        while digits[index] == 9 and index > 0 : \n",
    "            digits[index] = 0\n",
    "            if digits[index - 1] == 9 : \n",
    "                index -= 1 \n",
    "            else : \n",
    "                digits[index-1] += 1 \n",
    "        if index == 0 : \n",
    "            resultat = np.zeros(len(digits) + 1, dtype = int)\n",
    "            resultat[0] = 1 \n",
    "            return resultat \n",
    "    return digits \n",
    "            "
   ]
  },
  {
   "cell_type": "code",
   "execution_count": 35,
   "id": "b80f1df6",
   "metadata": {},
   "outputs": [
    {
     "name": "stdout",
     "output_type": "stream",
     "text": [
      "[1, 2, 3, 5]\n",
      "[1 0 0 0]\n"
     ]
    }
   ],
   "source": [
    "digits = [1,2,3,4]\n",
    "print(plusOne(digits))\n",
    "digits = [9,9,9]\n",
    "print(plusOne(digits))"
   ]
  },
  {
   "cell_type": "markdown",
   "id": "b855c767",
   "metadata": {},
   "source": [
    "### Pow$(x,n)$. <a id=\"part6\"></a>"
   ]
  },
  {
   "cell_type": "markdown",
   "id": "6313301c",
   "metadata": {},
   "source": [
    "`Pow(x, n)` is a mathematical function to calculate the value of `x` raised to the power of `n` (i.e., $x^n$).\n",
    "\n",
    "Given a floating-point value `x` and an integer value `n`, implement the `myPow(x, n)` function, which calculates `x` raised to the power `n`.\n",
    "\n",
    "You may not use any built-in library functions."
   ]
  },
  {
   "cell_type": "code",
   "execution_count": 43,
   "id": "db33b426",
   "metadata": {},
   "outputs": [],
   "source": [
    "def myPow(x : float, n : int) : \n",
    "    if n == 0 : \n",
    "        return float(1) \n",
    "    elif n == 1 : \n",
    "        return x\n",
    "    elif n < 0 : \n",
    "        if abs(x) < 1e-15 : \n",
    "            return float(0) \n",
    "        x = 1/x\n",
    "        n = -n \n",
    "    if n % 2 == 0 : \n",
    "        temp = myPow(x, n / 2)\n",
    "        return temp * temp \n",
    "    else : \n",
    "        temp = myPow(x, n // 2)\n",
    "        return temp * temp * x "
   ]
  },
  {
   "cell_type": "code",
   "execution_count": 45,
   "id": "e2e6a0ab",
   "metadata": {},
   "outputs": [
    {
     "data": {
      "text/plain": [
       "0.125"
      ]
     },
     "execution_count": 45,
     "metadata": {},
     "output_type": "execute_result"
    }
   ],
   "source": [
    "x = 2.00000\n",
    "n = -3\n",
    "myPow(x, n)"
   ]
  },
  {
   "cell_type": "markdown",
   "id": "54964120",
   "metadata": {},
   "source": [
    "### Multiply Strings. <a id=\"part7\"></a>"
   ]
  },
  {
   "cell_type": "markdown",
   "id": "aa3d21e6",
   "metadata": {},
   "source": [
    "You are given two strings `num1` and `num2` that represent non-negative integers.\n",
    "\n",
    "Return the product of `num1` and `num2` in the form of a string.\n",
    "\n",
    "Assume that neither `num1` nor `num2` contain any leading zero, unless they are the number $0$ itself.\n",
    "\n",
    "**Note:** You can not use any built-in library to convert the inputs directly into integers."
   ]
  },
  {
   "cell_type": "code",
   "execution_count": 56,
   "id": "39bda455",
   "metadata": {},
   "outputs": [],
   "source": [
    "def multiply(num1, num2):\n",
    "    if num1 == \"0\" or num2 == \"0\":\n",
    "        return \"0\"\n",
    "\n",
    "    num = [0] * (len(num1) + len(num2))\n",
    "    \n",
    "    for i in range(len(num1) - 1, -1, -1):\n",
    "        for j in range(len(num2) - 1, -1, -1):\n",
    "            num[i + j + 1] += (ord(num1[i]) - ord('0')) * (ord(num2[j]) - ord('0'))\n",
    "            num[i + j] += num[i + j + 1] // 10\n",
    "            num[i + j + 1] %= 10\n",
    "    \n",
    "    i = 0\n",
    "    while i < len(num) and num[i] == 0:\n",
    "        i += 1\n",
    "\n",
    "    res = \"\"\n",
    "    while i < len(num):\n",
    "        res += str(num[i])\n",
    "        i += 1\n",
    "    return res"
   ]
  },
  {
   "cell_type": "code",
   "execution_count": 58,
   "id": "2daacb2e",
   "metadata": {},
   "outputs": [
    {
     "name": "stdout",
     "output_type": "stream",
     "text": [
      "24642\n"
     ]
    }
   ],
   "source": [
    "num1 = \"111\"\n",
    "num2 = \"222\"\n",
    "print(multiply(num1, num2))"
   ]
  },
  {
   "cell_type": "markdown",
   "id": "e4648d83",
   "metadata": {},
   "source": [
    "### Count Squares. <a id=\"part8\"></a>"
   ]
  },
  {
   "cell_type": "markdown",
   "id": "f9a00888",
   "metadata": {},
   "source": [
    "You are given a stream of points consisting of x-y coordinates on a 2-D plane. Points can be added and queried as follows:\n",
    "\n",
    "**Add** : new points can be added to the stream into a data structure. Duplicate points are allowed and should be treated as separate points.\n",
    "\n",
    "**Query** : Given a single query point, count the number of ways to choose three additional points from the data structure such that the three points and the query point form a square. The square must have all sides parallel to the x-axis and y-axis, i.e. no diagonal squares are allowed. Recall that a square must have four equal sides.\n",
    "\n",
    "Implement the `CountSquares` class:\n",
    "\n",
    "- `CountSquares()` Initializes the object.\n",
    "- `void add(int[] point)` Adds a new point point = $[x, y]$.\n",
    "- `int count(int[] point)` Counts the number of ways to form valid squares with point point = $[x, y]$ as described above."
   ]
  },
  {
   "cell_type": "code",
   "execution_count": 64,
   "id": "df556220",
   "metadata": {},
   "outputs": [],
   "source": [
    "from collections import defaultdict\n",
    "\n",
    "class CountSquares:\n",
    "    def __init__(self):\n",
    "        self.Map = defaultdict(lambda: defaultdict(int))\n",
    "\n",
    "    def add(self, point):\n",
    "        x, y = point\n",
    "        self.Map[x][y] += 1\n",
    "\n",
    "    def count(self, point):\n",
    "        ans = 0\n",
    "        x1, y1 = point\n",
    "        for y2 in self.Map[x1]:\n",
    "            if y2 == y1:\n",
    "                continue\n",
    "            dist = abs(y1 - y2)\n",
    "            ans += self.Map[x1][y2] * (self.Map[x1 - dist][y2] * self.Map[x1 - dist][y1] + self.Map[x1 + dist][y2] * self.Map[x1 + dist][y1])\n",
    "        return ans"
   ]
  },
  {
   "cell_type": "code",
   "execution_count": 67,
   "id": "870aef49",
   "metadata": {},
   "outputs": [
    {
     "name": "stdout",
     "output_type": "stream",
     "text": [
      "1\n",
      "0\n",
      "2\n"
     ]
    }
   ],
   "source": [
    "countSquares = CountSquares()\n",
    "countSquares.add([1, 1])\n",
    "countSquares.add([2, 2])\n",
    "countSquares.add([1, 2])\n",
    "print(countSquares.count([2, 1]))   \n",
    "print(countSquares.count([3, 3]))  \n",
    "countSquares.add([2, 2])     \n",
    "print(countSquares.count([2, 1]))   "
   ]
  }
 ],
 "metadata": {
  "kernelspec": {
   "display_name": "Python 3 (ipykernel)",
   "language": "python",
   "name": "python3"
  },
  "language_info": {
   "codemirror_mode": {
    "name": "ipython",
    "version": 3
   },
   "file_extension": ".py",
   "mimetype": "text/x-python",
   "name": "python",
   "nbconvert_exporter": "python",
   "pygments_lexer": "ipython3",
   "version": "3.10.9"
  }
 },
 "nbformat": 4,
 "nbformat_minor": 5
}
