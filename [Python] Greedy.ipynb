{
 "cells": [
  {
   "cell_type": "markdown",
   "id": "eb5f89a8",
   "metadata": {},
   "source": [
    "# Greedy "
   ]
  },
  {
   "cell_type": "markdown",
   "id": "db2bc916",
   "metadata": {},
   "source": [
    "## Table of contents : "
   ]
  },
  {
   "cell_type": "markdown",
   "id": "1e3020a7",
   "metadata": {},
   "source": [
    "- [Maximum Subarray](#part1)\n",
    "- [Jump Game](#part2)\n",
    "- [Jump Game II](#part3)\n",
    "- [Gas Station](#part4)\n",
    "- [Hand of Straights](#part5)\n",
    "- [Merge Triplets from Target](#part6)\n",
    "- [Partition Labels](#part7)\n",
    "- [Valid Parenthesis String](#part8) "
   ]
  },
  {
   "cell_type": "markdown",
   "id": "2b8a7f84",
   "metadata": {},
   "source": [
    "### 1. Maximum Subarray.  <a id=\"part1\"></a>"
   ]
  },
  {
   "cell_type": "markdown",
   "id": "9dd2ca29",
   "metadata": {},
   "source": [
    "Given an array of integers `nums`, find the subarray with the largest sum and return the sum.\n",
    "\n",
    "A subarray is a contiguous non-empty sequence of elements within an array."
   ]
  },
  {
   "cell_type": "code",
   "execution_count": 2,
   "id": "c989fa23",
   "metadata": {},
   "outputs": [],
   "source": [
    "def maxSubArray(nums) : \n",
    "    current = nums[0]\n",
    "    result = nums[0]\n",
    "    for i in range(1, len(nums)) : \n",
    "        current = max(current + nums[i], nums[i])\n",
    "        result = max(result, current)\n",
    "    return result "
   ]
  },
  {
   "cell_type": "code",
   "execution_count": 4,
   "id": "6ae849c4",
   "metadata": {},
   "outputs": [
    {
     "data": {
      "text/plain": [
       "8"
      ]
     },
     "execution_count": 4,
     "metadata": {},
     "output_type": "execute_result"
    }
   ],
   "source": [
    "nums = [2,-3,4,-2,2,1,-1,4]\n",
    "maxSubArray(nums)"
   ]
  },
  {
   "cell_type": "markdown",
   "id": "0567ff8d",
   "metadata": {},
   "source": [
    "### 2. Jump Game. <a id=\"part2\"></a>"
   ]
  },
  {
   "cell_type": "markdown",
   "id": "ce20cf8d",
   "metadata": {},
   "source": [
    "You are given an integer array `nums` where each element `nums[i]` indicates your maximum jump length at that position.\n",
    "\n",
    "Return true if you can reach the last index starting from index 0, or false otherwise."
   ]
  },
  {
   "cell_type": "code",
   "execution_count": 10,
   "id": "102094bc",
   "metadata": {},
   "outputs": [],
   "source": [
    "def canJump(nums) : \n",
    "    target = len(nums) - 1 \n",
    "    for i in range(len(nums)-2, -1, -1) : \n",
    "        if i + nums[i] >= target : \n",
    "            target = i \n",
    "    return target == 0"
   ]
  },
  {
   "cell_type": "code",
   "execution_count": 11,
   "id": "421cd9b7",
   "metadata": {},
   "outputs": [
    {
     "name": "stdout",
     "output_type": "stream",
     "text": [
      "True\n",
      "False\n"
     ]
    }
   ],
   "source": [
    "nums = [1,2,0,1,0]\n",
    "print(canJump(nums))\n",
    "\n",
    "nums = [1,2,1,0,1]\n",
    "print(canJump(nums))"
   ]
  },
  {
   "cell_type": "markdown",
   "id": "72584bf9",
   "metadata": {},
   "source": [
    "### 3. Jump Game II. <a id=\"part3\"></a>"
   ]
  },
  {
   "cell_type": "markdown",
   "id": "e13b46be",
   "metadata": {},
   "source": [
    "You are given an array of integers `nums`, where `nums[i]` represents the maximum length of a jump towards the right from index i. For example, if you are at `nums[i]`, you can jump to any index $i + j$ where:\n",
    "\n",
    "- $j\\leq$ `nums[i]`\n",
    "- $i + j < $ `nums.length`\n",
    "\n",
    "You are initially positioned at `nums[0]`.\n",
    "\n",
    "Return the minimum number of jumps to reach the last position in the array (index `nums.length - 1`). You may assume there is always a valid answer."
   ]
  },
  {
   "cell_type": "code",
   "execution_count": 12,
   "id": "795468c7",
   "metadata": {},
   "outputs": [],
   "source": [
    "def jump(nums) : \n",
    "    n = len(nums)\n",
    "    \n",
    "    if n == 1 : \n",
    "        return 0 \n",
    "\n",
    "    jumps = 0      #Number of jumps\n",
    "    currentEnd = 0 #Current end of the jamp range \n",
    "    farthest = 0   #Farthest reachable index with the current jumps \n",
    "    \n",
    "    for i in range (len(nums)-1) : \n",
    "        farthest = max(farthest, i + nums[i])\n",
    "        if i == currentEnd : \n",
    "            jumps += 1 \n",
    "            currentEnd = farthest \n",
    "        if currentEnd >= n-1 : \n",
    "            break\n",
    "    return jumps "
   ]
  },
  {
   "cell_type": "code",
   "execution_count": 13,
   "id": "97ccb22d",
   "metadata": {},
   "outputs": [
    {
     "data": {
      "text/plain": [
       "2"
      ]
     },
     "execution_count": 13,
     "metadata": {},
     "output_type": "execute_result"
    }
   ],
   "source": [
    "nums = [2,4,1,1,1,1]\n",
    "jump(nums)"
   ]
  },
  {
   "cell_type": "markdown",
   "id": "c3592b6e",
   "metadata": {},
   "source": [
    "### 4. Gas Station. <a id=\"part4\"></a>"
   ]
  },
  {
   "cell_type": "markdown",
   "id": "b6054d96",
   "metadata": {},
   "source": [
    "There are `n` gas stations along a circular route. You are given two integer arrays `gas` and `cost` where:\n",
    "\n",
    "- `gas[i]` is the amount of gas at the ith station.\n",
    "- `cost[i]` is the amount of gas needed to travel from the ith station to the (i + 1)th station. (The last station is connected to the first station)\n",
    "You have a car that can store an unlimited amount of gas, but you begin the journey with an empty tank at one of the gas stations.\n",
    "\n",
    "Return the starting gas station's index such that you can travel around the circuit once in the clockwise direction. If it's impossible, then return `-1`.\n",
    "\n",
    "It's guranteed that at most one solution exists."
   ]
  },
  {
   "cell_type": "code",
   "execution_count": 24,
   "id": "87f2b9b9",
   "metadata": {},
   "outputs": [],
   "source": [
    "def canCompleteCircuit(gas, cost) : \n",
    "    if(sum(gas) < sum(cost)) : \n",
    "        return -1\n",
    "    total = 0\n",
    "    res = 0 \n",
    "    for i in range(len(gas)) : \n",
    "        total += (gas[i] - cost[i])\n",
    "        if total < 0 : \n",
    "            total = 0\n",
    "            res = i+1 \n",
    "    return res "
   ]
  },
  {
   "cell_type": "code",
   "execution_count": 28,
   "id": "fcd3ca8f",
   "metadata": {},
   "outputs": [
    {
     "data": {
      "text/plain": [
       "3"
      ]
     },
     "execution_count": 28,
     "metadata": {},
     "output_type": "execute_result"
    }
   ],
   "source": [
    "gas = [1,2,3,4]\n",
    "cost = [2,2,4,1]\n",
    "canCompleteCircuit(gas, cost)"
   ]
  },
  {
   "cell_type": "code",
   "execution_count": 29,
   "id": "7a353efe",
   "metadata": {},
   "outputs": [
    {
     "data": {
      "text/plain": [
       "-1"
      ]
     },
     "execution_count": 29,
     "metadata": {},
     "output_type": "execute_result"
    }
   ],
   "source": [
    "gas = [1,2,3]\n",
    "cost = [2,3,2]\n",
    "canCompleteCircuit(gas, cost)"
   ]
  },
  {
   "cell_type": "markdown",
   "id": "5d4cd958",
   "metadata": {},
   "source": [
    "### 5. Hand of Straights. <a id=\"part5\"></a>"
   ]
  },
  {
   "cell_type": "markdown",
   "id": "705a0d47",
   "metadata": {},
   "source": [
    "You are given an integer array `hand` where `hand[i`] is the value written on the ith card and an integer `groupSize`.\n",
    "\n",
    "You want to rearrange the cards into groups so that each group is of size groupSize, and card values are consecutively increasing by 1.\n",
    "\n",
    "Return true if it's possible to rearrange the cards in this way, otherwise, return false."
   ]
  },
  {
   "cell_type": "code",
   "execution_count": 36,
   "id": "88305675",
   "metadata": {},
   "outputs": [],
   "source": [
    "def is_n_straight_hand(hand, group_size):\n",
    "    if len(hand) % group_size != 0:\n",
    "        return False\n",
    "\n",
    "    card_count = {}\n",
    "    for card in hand:\n",
    "        card_count[card] = card_count.get(card, 0) + 1\n",
    "\n",
    "    sorted_cards = sorted(card_count.keys())\n",
    "\n",
    "    for card in sorted_cards:\n",
    "        count = card_count[card]\n",
    "        if count > 0:\n",
    "            for i in range(group_size):\n",
    "                if card_count.get(card + i, 0) < count:\n",
    "                    return False\n",
    "                card_count[card + i] -= count\n",
    "\n",
    "    return True"
   ]
  },
  {
   "cell_type": "code",
   "execution_count": 37,
   "id": "a67a28d1",
   "metadata": {},
   "outputs": [
    {
     "data": {
      "text/plain": [
       "True"
      ]
     },
     "execution_count": 37,
     "metadata": {},
     "output_type": "execute_result"
    }
   ],
   "source": [
    "hand = [1,2,4,2,3,5,3,4]\n",
    "groupSize = 4\n",
    "is_n_straight_hand(hand, groupSize) # [1,2,3,4] and [2,3,4,5] "
   ]
  },
  {
   "cell_type": "code",
   "execution_count": 39,
   "id": "c0429034",
   "metadata": {},
   "outputs": [
    {
     "data": {
      "text/plain": [
       "False"
      ]
     },
     "execution_count": 39,
     "metadata": {},
     "output_type": "execute_result"
    }
   ],
   "source": [
    "hand = [1,2,3,3,4,5,6,7]\n",
    "groupSize = 4\n",
    "is_n_straight_hand(hand, groupSize) # [1,2,3,4] and [3,5,6,7] "
   ]
  },
  {
   "cell_type": "markdown",
   "id": "9750056d",
   "metadata": {},
   "source": [
    "### 6. Merge Triplets from Target.<a id=\"part6\"></a>"
   ]
  },
  {
   "cell_type": "markdown",
   "id": "37f4d864",
   "metadata": {},
   "source": [
    "You are given a 2D array of integers `triplets`, where `triplets[i] = [ai, bi, ci]` represents the ith triplet. You are also given an array of integers `target = [x, y, z]` which is the triplet we want to obtain.\n",
    "\n",
    "To obtain target, you may apply the following operation on triplets zero or more times:\n",
    "\n",
    "Choose **two different triplets** `triplets[i]` and `triplets[j]` and update `triplets[j]` to become `[max(ai, aj), max(bi, bj), max(ci, cj)]`.\n",
    "E.g. if `triplets[i] = [1, 3, 1]` and `triplets[j] = [2, 1, 2]`, `triplets[j]` will be updated to `[max(1, 2), max(3, 1), max(1, 2)] = [2, 3, 2]`.\n",
    "\n",
    "Return true if it is possible to obtain target as an element of triplets, or false otherwise."
   ]
  },
  {
   "cell_type": "code",
   "execution_count": 41,
   "id": "e5f66f16",
   "metadata": {},
   "outputs": [],
   "source": [
    "def mergeTriplets(triplets, target) : \n",
    "    S = set()\n",
    "        \n",
    "    if target in triplets:\n",
    "        return True\n",
    "        \n",
    "    for triplet in triplets:\n",
    "        if any(target[i] < triplet[i] for i in range(3)):\n",
    "                continue\n",
    "            \n",
    "        for i in range(3):\n",
    "            if triplet[i] == target[i]:\n",
    "                S.add(i)\n",
    "        \n",
    "    return len(S) == 3"
   ]
  },
  {
   "cell_type": "code",
   "execution_count": 42,
   "id": "e5604763",
   "metadata": {},
   "outputs": [
    {
     "data": {
      "text/plain": [
       "True"
      ]
     },
     "execution_count": 42,
     "metadata": {},
     "output_type": "execute_result"
    }
   ],
   "source": [
    "triplets = [[1,2,3],[7,1,1]]\n",
    "target = [7,2,3]\n",
    "mergeTriplets(triplets, target)"
   ]
  },
  {
   "cell_type": "markdown",
   "id": "ad4d01da",
   "metadata": {},
   "source": [
    "### 7. Partition Labels. <a id=\"part7\"></a>"
   ]
  },
  {
   "cell_type": "markdown",
   "id": "1c12d7c3",
   "metadata": {},
   "source": [
    "You are given a string `s` consisting of lowercase english letters.\n",
    "\n",
    "We want to split the string into as many substrings as possible, while ensuring that each letter appears in at most one substring.\n",
    "\n",
    "Return a list of integers representing the size of these substrings in the order they appear in the string."
   ]
  },
  {
   "cell_type": "code",
   "execution_count": 43,
   "id": "f42a77aa",
   "metadata": {},
   "outputs": [],
   "source": [
    "def partitionLabels(s) : \n",
    "    result = []\n",
    "    lastOccurence = {}\n",
    "    for i in range (len(s)) : \n",
    "        lastOccurence[s[i]] = i \n",
    "    start = 0\n",
    "    end = 0 \n",
    "    for i in range(len(s)) : \n",
    "        end = max(end, lastOccurence[s[i]])\n",
    "        if i == end : #i.e. if we have reached the end of the current partition\n",
    "            result.append(end - start + 1)\n",
    "            start = i+1 \n",
    "    return result"
   ]
  },
  {
   "cell_type": "code",
   "execution_count": 45,
   "id": "6a00422d",
   "metadata": {},
   "outputs": [
    {
     "data": {
      "text/plain": [
       "[5, 5, 1, 1, 1]"
      ]
     },
     "execution_count": 45,
     "metadata": {},
     "output_type": "execute_result"
    }
   ],
   "source": [
    "s = \"xyxxyzbzbbisl\"\n",
    "partitionLabels(s)"
   ]
  },
  {
   "cell_type": "code",
   "execution_count": 46,
   "id": "f2bd14bd",
   "metadata": {},
   "outputs": [
    {
     "data": {
      "text/plain": [
       "[6]"
      ]
     },
     "execution_count": 46,
     "metadata": {},
     "output_type": "execute_result"
    }
   ],
   "source": [
    "s = \"abcabc\"\n",
    "partitionLabels(s)"
   ]
  },
  {
   "cell_type": "markdown",
   "id": "5a71f0f4",
   "metadata": {},
   "source": [
    "### 8. Valid Parenthesis String. <a id=\"part8\"></a>"
   ]
  },
  {
   "cell_type": "markdown",
   "id": "bc4c5b2e",
   "metadata": {},
   "source": [
    "You are given a string `s` which contains only three types of characters: `'('`, `')'` and `'*'`.\n",
    "\n",
    "Return true if `s` is valid, otherwise return false.\n",
    "\n",
    "A string is valid if it follows all of the following rules:\n",
    "\n",
    "- Every left parenthesis `'('` must have a corresponding right parenthesis `')'`.\n",
    "- Every right parenthesis `')'` must have a corresponding left parenthesis `'('`.\n",
    "- Left parenthesis `'('` must go before the corresponding right parenthesis `')'`.\n",
    "- A `'*'` could be treated as a right parenthesis `')'` character or a left parenthesis `'('` character, or as an empty string `\"\"`."
   ]
  },
  {
   "cell_type": "code",
   "execution_count": 47,
   "id": "2f029678",
   "metadata": {},
   "outputs": [],
   "source": [
    "def checkValidString(s) : \n",
    "    \n",
    "    minOpen = 0 #Minimum number of '(' needed \n",
    "    maxOpen = 0 #Maximum number of ')' possible\n",
    "    \n",
    "    for c in s : \n",
    "        if c == '(' : \n",
    "            minOpen += 1\n",
    "            maxOpen += 1 \n",
    "        elif c == ')' : \n",
    "            minOpen -= 1\n",
    "            maxOpen -= 1\n",
    "        else : \n",
    "            minOpen -= 1 #'*' can be ')' or ''\n",
    "            maxOpen += 1 #'*' can be '(' or ''\n",
    "        if maxOpen < 0 : \n",
    "            return False  #Too many closing parenthesis \n",
    "        if minOpen < 0 : \n",
    "            minOpen = 0 #Reset minOpen to 0 since we can treat `*` as empty \n",
    "    \n",
    "    return minOpen == 0 "
   ]
  },
  {
   "cell_type": "code",
   "execution_count": 53,
   "id": "f1f45d46",
   "metadata": {},
   "outputs": [
    {
     "data": {
      "text/plain": [
       "True"
      ]
     },
     "execution_count": 53,
     "metadata": {},
     "output_type": "execute_result"
    }
   ],
   "source": [
    "s = \"((**)\"\n",
    "checkValidString(s)"
   ]
  },
  {
   "cell_type": "code",
   "execution_count": 54,
   "id": "d9189026",
   "metadata": {},
   "outputs": [
    {
     "data": {
      "text/plain": [
       "False"
      ]
     },
     "execution_count": 54,
     "metadata": {},
     "output_type": "execute_result"
    }
   ],
   "source": [
    "s = \"(((*)\"\n",
    "checkValidString(s)"
   ]
  }
 ],
 "metadata": {
  "kernelspec": {
   "display_name": "Python 3 (ipykernel)",
   "language": "python",
   "name": "python3"
  },
  "language_info": {
   "codemirror_mode": {
    "name": "ipython",
    "version": 3
   },
   "file_extension": ".py",
   "mimetype": "text/x-python",
   "name": "python",
   "nbconvert_exporter": "python",
   "pygments_lexer": "ipython3",
   "version": "3.10.9"
  }
 },
 "nbformat": 4,
 "nbformat_minor": 5
}
