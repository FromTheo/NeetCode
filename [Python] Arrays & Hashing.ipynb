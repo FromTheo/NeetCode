{
 "cells": [
  {
   "cell_type": "markdown",
   "id": "96dd4464",
   "metadata": {},
   "source": [
    "# Arrays & Hashing "
   ]
  },
  {
   "cell_type": "markdown",
   "id": "409d95c0",
   "metadata": {},
   "source": [
    "### Table of contents : \n",
    "- [Contains Duplicate](#part1) \n",
    "- [Valid Anagram](#part2) \n",
    "- [Two Sum](#part3) \n",
    "- [Group Anagrams](#part4) \n",
    "- [Top K Frequent Elements](#part5) \n",
    "- [Encore and Decode Strings](#part6) \n",
    "- [Product of Array Except Self](#part7) \n",
    "- [Valid Sudoku](#part8) \n",
    "- [Longest Consecutive Sequence](#part9) "
   ]
  },
  {
   "cell_type": "markdown",
   "id": "07da440e",
   "metadata": {},
   "source": [
    "### Contains Duplicate. <a id=\"part1\"></a>"
   ]
  },
  {
   "cell_type": "markdown",
   "id": "3c0b59bc",
   "metadata": {},
   "source": [
    "Given an integer array `nums`, return `true` if any value appears more than once in the array, otherwise return `false`."
   ]
  },
  {
   "cell_type": "code",
   "execution_count": 14,
   "id": "17375b13",
   "metadata": {},
   "outputs": [],
   "source": [
    "def hasDuplicate(nums) -> bool:\n",
    "    S = set() \n",
    "    for i in nums : \n",
    "        if i in S : return False\n",
    "        S.add(i)\n",
    "    return True"
   ]
  },
  {
   "cell_type": "code",
   "execution_count": 15,
   "id": "9bb1d0e0",
   "metadata": {},
   "outputs": [
    {
     "name": "stdout",
     "output_type": "stream",
     "text": [
      "False\n",
      "True\n"
     ]
    }
   ],
   "source": [
    "nums = [1, 2, 3, 3]\n",
    "print(hasDuplicate(nums))\n",
    "nums = [1, 2, 3, 4]\n",
    "print(hasDuplicate(nums))"
   ]
  },
  {
   "cell_type": "markdown",
   "id": "19cd762d",
   "metadata": {},
   "source": [
    "### Valid Anagram. <a id=\"part2\"></a>"
   ]
  },
  {
   "cell_type": "markdown",
   "id": "8336c457",
   "metadata": {},
   "source": [
    "Given two strings `s` and `t`, return `true` if the two strings are anagrams of each other, otherwise return `false`.\n",
    "\n",
    "An anagram is a string that contains the exact same characters as another string, but the order of the characters can be different."
   ]
  },
  {
   "cell_type": "code",
   "execution_count": 19,
   "id": "724ee50f",
   "metadata": {},
   "outputs": [],
   "source": [
    "def isAnagram(s: str, t: str) -> bool:\n",
    "    M_s = {}\n",
    "    M_t = {}\n",
    "    \n",
    "    for x in s:\n",
    "        if x in M_s:\n",
    "            M_s[x] += 1\n",
    "        else:\n",
    "            M_s[x] = 1\n",
    "    \n",
    "    for x in t:\n",
    "        if x in M_t:\n",
    "            M_t[x] += 1\n",
    "        else:\n",
    "            M_t[x] = 1\n",
    "    \n",
    "    return M_s == M_t"
   ]
  },
  {
   "cell_type": "code",
   "execution_count": 21,
   "id": "febf9dce",
   "metadata": {},
   "outputs": [
    {
     "name": "stdout",
     "output_type": "stream",
     "text": [
      "True\n",
      "False\n"
     ]
    }
   ],
   "source": [
    "s = \"racecar\" \n",
    "t = \"carrace\"\n",
    "print(isAnagram(s,t))\n",
    "\n",
    "s = \"jam\"\n",
    "t = \"jar\"\n",
    "print(isAnagram(s,t))"
   ]
  },
  {
   "cell_type": "markdown",
   "id": "22f7a2c4",
   "metadata": {},
   "source": [
    "### Two Sum. <a id=\"part3\"></a>"
   ]
  },
  {
   "cell_type": "markdown",
   "id": "61052db1",
   "metadata": {},
   "source": [
    "Given an array of integers `nums` and an integer `target`, return the indices i and j such that `nums[i] + nums[j] == target` and `i != j`.\n",
    "\n",
    "You may assume that every input has exactly one pair of indices `i` and `j` that satisfy the condition.\n",
    "\n",
    "Return the answer with the smaller index first."
   ]
  },
  {
   "cell_type": "code",
   "execution_count": 27,
   "id": "6e1c3abe",
   "metadata": {},
   "outputs": [],
   "source": [
    "def twoSum(nums, target) : # O(n) solution. \n",
    "    num_to_index = {}\n",
    "    \n",
    "    for i, num in enumerate(nums):\n",
    "        complement = target - num\n",
    "        if complement in num_to_index:\n",
    "            return [num_to_index[complement], i]\n",
    "        \n",
    "        num_to_index[num] = i\n",
    "    \n",
    "    return []"
   ]
  },
  {
   "cell_type": "code",
   "execution_count": 28,
   "id": "87996902",
   "metadata": {},
   "outputs": [
    {
     "name": "stdout",
     "output_type": "stream",
     "text": [
      "[0, 2]\n"
     ]
    }
   ],
   "source": [
    "nums = [4,5,6]\n",
    "target = 10\n",
    "print(twoSum(nums, target))"
   ]
  },
  {
   "cell_type": "markdown",
   "id": "d32d9322",
   "metadata": {},
   "source": [
    "### Group Anagrams. \n",
    "<a id=\"part4\"></a>"
   ]
  },
  {
   "cell_type": "markdown",
   "id": "2ab08bf2",
   "metadata": {},
   "source": [
    "Given an array of strings `strs`, group all anagrams together into sublists. You may return the output in any order.\n",
    "\n",
    "An anagram is a string that contains the exact same characters as another string, but the order of the characters can be different."
   ]
  },
  {
   "cell_type": "code",
   "execution_count": 30,
   "id": "ecaec4ff",
   "metadata": {},
   "outputs": [],
   "source": [
    "from typing import List, Dict\n",
    "\n",
    "def group_anagrams(strs: List[str]) -> List[List[str]]:\n",
    "    anagram_map: Dict[str, List[str]] = {}\n",
    "    \n",
    "    for s in strs:\n",
    "        sorted_str = ''.join(sorted(s))\n",
    "        if sorted_str not in anagram_map :\n",
    "            anagram_map[sorted_str] = []\n",
    "        anagram_map[sorted_str].append(s)\n",
    "    \n",
    "    return list(anagram_map.values())"
   ]
  },
  {
   "cell_type": "code",
   "execution_count": 32,
   "id": "7806298c",
   "metadata": {},
   "outputs": [
    {
     "data": {
      "text/plain": [
       "[['act', 'cat'], ['pots', 'tops', 'stop'], ['hat']]"
      ]
     },
     "execution_count": 32,
     "metadata": {},
     "output_type": "execute_result"
    }
   ],
   "source": [
    "strs = [\"act\",\"pots\",\"tops\",\"cat\",\"stop\",\"hat\"]\n",
    "group_anagrams(strs)"
   ]
  },
  {
   "cell_type": "markdown",
   "id": "ead942c5",
   "metadata": {},
   "source": [
    "### Top K Frequent Elements. <a id=\"part5\"></a>"
   ]
  },
  {
   "cell_type": "markdown",
   "id": "13be020a",
   "metadata": {},
   "source": [
    "Given an integer array `nums` and an integer `k`, return the `k` most frequent elements within the array.\n",
    "\n",
    "The test cases are generated such that the answer is always unique.\n",
    "\n",
    "You may return the output in any order."
   ]
  },
  {
   "cell_type": "markdown",
   "id": "9efbbbf9",
   "metadata": {},
   "source": [
    "#### 1st method : "
   ]
  },
  {
   "cell_type": "code",
   "execution_count": 38,
   "id": "e1e61a7b",
   "metadata": {},
   "outputs": [],
   "source": [
    "from typing import List\n",
    "from collections import Counter\n",
    "import heapq\n",
    "\n",
    "def top_k_frequent(nums: List[int], k: int) -> List[int]:\n",
    "    count = Counter(nums)\n",
    "    return [item for item, _ in heapq.nlargest(k, count.items(), key=lambda x: x[1])]"
   ]
  },
  {
   "cell_type": "code",
   "execution_count": 39,
   "id": "aca3ac6c",
   "metadata": {},
   "outputs": [
    {
     "data": {
      "text/plain": [
       "[3, 2]"
      ]
     },
     "execution_count": 39,
     "metadata": {},
     "output_type": "execute_result"
    }
   ],
   "source": [
    "nums = [1,2,2,3,3,3]\n",
    "k = 2\n",
    "\n",
    "topKFrequent(nums, k)"
   ]
  },
  {
   "cell_type": "markdown",
   "id": "f8ee9687",
   "metadata": {},
   "source": [
    "#### 2nd method : "
   ]
  },
  {
   "cell_type": "code",
   "execution_count": 36,
   "id": "c554d0c5",
   "metadata": {},
   "outputs": [],
   "source": [
    "def topKFrequent(nums, k) : \n",
    "        count = {}\n",
    "        freq = [[] for i in range(len(nums) + 1)]\n",
    "\n",
    "        for n in nums:\n",
    "            count[n] = 1 + count.get(n, 0)\n",
    "        for n, c in count.items():\n",
    "            freq[c].append(n)\n",
    "\n",
    "        res = []\n",
    "        for i in range(len(freq) - 1, 0, -1):\n",
    "            for n in freq[i]:\n",
    "                res.append(n)\n",
    "                if len(res) == k:\n",
    "                    return res"
   ]
  },
  {
   "cell_type": "code",
   "execution_count": 37,
   "id": "7a471289",
   "metadata": {},
   "outputs": [
    {
     "data": {
      "text/plain": [
       "[3, 2]"
      ]
     },
     "execution_count": 37,
     "metadata": {},
     "output_type": "execute_result"
    }
   ],
   "source": [
    "nums = [1,2,2,3,3,3]\n",
    "k = 2\n",
    "\n",
    "topKFrequent(nums, k)"
   ]
  },
  {
   "cell_type": "markdown",
   "id": "303a8324",
   "metadata": {},
   "source": [
    "### Encode and Decode Strings. <a id=\"part6\"></a>"
   ]
  },
  {
   "cell_type": "markdown",
   "id": "5ec78414",
   "metadata": {},
   "source": [
    "Design an algorithm to encode a list of strings to a single string. The encoded string is then decoded back to the original list of strings.\n",
    "\n",
    "Please implement `encode` and `decode`."
   ]
  },
  {
   "cell_type": "code",
   "execution_count": 41,
   "id": "eca2e164",
   "metadata": {},
   "outputs": [],
   "source": [
    "def encode(strs):\n",
    "    res = []\n",
    "    for s in strs:\n",
    "        res.append(f\"{len(s)}#{s}\")\n",
    "    return ''.join(res) "
   ]
  },
  {
   "cell_type": "code",
   "execution_count": 42,
   "id": "6b31073a",
   "metadata": {},
   "outputs": [
    {
     "name": "stdout",
     "output_type": "stream",
     "text": [
      "5#hello5#world\n"
     ]
    }
   ],
   "source": [
    "strs = [\"hello\", \"world\"]\n",
    "encoded_str = encode(strs)\n",
    "print(encoded_str)"
   ]
  },
  {
   "cell_type": "code",
   "execution_count": 44,
   "id": "f8989528",
   "metadata": {},
   "outputs": [],
   "source": [
    "def decode(s):\n",
    "    result = []\n",
    "    i = 0\n",
    "    \n",
    "    while i < len(s):\n",
    "        # Trouver l'index du caractère '#' pour déterminer la fin de la longueur\n",
    "        j = i\n",
    "        while s[j] != '#':\n",
    "            j += 1\n",
    "        \n",
    "        # Extraire la longueur de la chaîne\n",
    "        length = int(s[i:j])\n",
    "        \n",
    "        # Extraire la chaîne basée sur la longueur trouvée\n",
    "        str_ = s[j + 1:j + 1 + length]\n",
    "        \n",
    "        # Ajouter la chaîne extraite à la liste des résultats\n",
    "        result.append(str_)\n",
    "        \n",
    "        # Mettre à jour l'index pour la prochaine chaîne\n",
    "        i = j + 1 + length\n",
    "    \n",
    "    return result"
   ]
  },
  {
   "cell_type": "code",
   "execution_count": 45,
   "id": "3d627f98",
   "metadata": {},
   "outputs": [
    {
     "name": "stdout",
     "output_type": "stream",
     "text": [
      "['hello', 'world']\n"
     ]
    }
   ],
   "source": [
    "encoded_str = \"5#hello5#world\"\n",
    "decoded_list = decode(encoded_str)\n",
    "print(decoded_list) "
   ]
  },
  {
   "cell_type": "markdown",
   "id": "3efe75a8",
   "metadata": {},
   "source": [
    "### Product of Array Except Self. <a id=\"part7\"></a>"
   ]
  },
  {
   "cell_type": "markdown",
   "id": "c9d32749",
   "metadata": {},
   "source": [
    "Given an integer array `nums`, return an array `output` where `output[i]` is the product of all the elements of nums except `nums[i]`.\n",
    "\n",
    "Each product is guaranteed to fit in a 32-bit integer."
   ]
  },
  {
   "cell_type": "code",
   "execution_count": 56,
   "id": "409d9e94",
   "metadata": {},
   "outputs": [],
   "source": [
    "def productExceptSelf(nums):\n",
    "    res = [1] * len(nums)\n",
    "    \n",
    "    for i in range(1, len(nums)):\n",
    "        res[i] = res[i - 1] * nums[i - 1]\n",
    "    \n",
    "    postfix = 1\n",
    "    for i in range(len(nums) - 1, -1, -1):\n",
    "        res[i] *= postfix\n",
    "        postfix *= nums[i]\n",
    "    \n",
    "    return res"
   ]
  },
  {
   "cell_type": "code",
   "execution_count": 58,
   "id": "99c03fee",
   "metadata": {},
   "outputs": [
    {
     "name": "stdout",
     "output_type": "stream",
     "text": [
      "[48, 24, 12, 8]\n",
      "[0, -6, 0, 0, 0]\n"
     ]
    }
   ],
   "source": [
    "nums = [1,2,4,6]\n",
    "print(productExceptSelf(nums))\n",
    "nums = [-1,0,1,2,3]\n",
    "print(productExceptSelf(nums))"
   ]
  },
  {
   "cell_type": "markdown",
   "id": "75ecfa91",
   "metadata": {},
   "source": [
    "### Valid Sudoku. <a id=\"part8\"></a>"
   ]
  },
  {
   "cell_type": "markdown",
   "id": "fe730084",
   "metadata": {},
   "source": [
    "You are given a a 9 x 9 Sudoku board board. A Sudoku board is valid if the following rules are followed:\n",
    "\n",
    "- Each row must contain the digits 1-9 without duplicates.\n",
    "- Each column must contain the digits 1-9 without duplicates.\n",
    "- Each of the nine 3 x 3 sub-boxes of the grid must contain the digits 1-9 without duplicates.\n",
    "\n",
    "Return `true` if the Sudoku board is valid, otherwise return `false`. \n",
    "\n",
    "Note: A board does not need to be full or be solvable to be valid."
   ]
  },
  {
   "cell_type": "code",
   "execution_count": 73,
   "id": "da02d183",
   "metadata": {},
   "outputs": [],
   "source": [
    "def is_valid_sudoku(board) : \n",
    "    rows = [{} for _ in range(9)] \n",
    "    cols = [{} for _ in range(9)] \n",
    "    \n",
    "    for i in range(9) : \n",
    "        for j in range(9) : \n",
    "            \n",
    "            num = board[i][j]\n",
    "            \n",
    "            #Check rows : \n",
    "            if(num != '.') : \n",
    "                if num in rows[i] : \n",
    "                    return False\n",
    "            rows[i][num] = 1\n",
    "            \n",
    "            #Check cols : \n",
    "            if(num != '.') : \n",
    "                if num in cols[j] : \n",
    "                    return False\n",
    "            cols[j][num] = 1\n",
    "            \n",
    "    #Check boxes :      \n",
    "    for i in range(0, 9, 3):\n",
    "        for j in range(0, 9, 3):\n",
    "            boxes = {}\n",
    "            for x in range(i, i + 3):\n",
    "                for y in range(j, j + 3):\n",
    "                    num = board[x][y]\n",
    "                    if num != '.':\n",
    "                        if num in boxes:\n",
    "                            return False\n",
    "                        boxes[num] = 1\n",
    "\n",
    "    return True"
   ]
  },
  {
   "cell_type": "code",
   "execution_count": 78,
   "id": "37b79cb9",
   "metadata": {},
   "outputs": [
    {
     "name": "stdout",
     "output_type": "stream",
     "text": [
      "True\n",
      "False\n"
     ]
    }
   ],
   "source": [
    "board = [[\"1\",\"2\",\".\",\".\",\"3\",\".\",\".\",\".\",\".\"],\n",
    " [\"4\",\".\",\".\",\"5\",\".\",\".\",\".\",\".\",\".\"],\n",
    " [\".\",\"9\",\"8\",\".\",\".\",\".\",\".\",\".\",\"3\"],\n",
    " [\"5\",\".\",\".\",\".\",\"6\",\".\",\".\",\".\",\"4\"],\n",
    " [\".\",\".\",\".\",\"8\",\".\",\"3\",\".\",\".\",\"5\"],\n",
    " [\"7\",\".\",\".\",\".\",\"2\",\".\",\".\",\".\",\"6\"],\n",
    " [\".\",\".\",\".\",\".\",\".\",\".\",\"2\",\".\",\".\"],\n",
    " [\".\",\".\",\".\",\"4\",\"1\",\"9\",\".\",\".\",\"8\"],\n",
    " [\".\",\".\",\".\",\".\",\"8\",\".\",\".\",\"7\",\"9\"]]\n",
    "print(is_valid_sudoku(board))\n",
    "\n",
    "board = [[\"1\",\"2\",\".\",\".\",\"3\",\".\",\".\",\".\",\".\"],\n",
    " [\"4\",\".\",\".\",\"5\",\".\",\".\",\".\",\".\",\".\"],\n",
    " [\".\",\"9\",\"1\",\".\",\".\",\".\",\".\",\".\",\"3\"],\n",
    " [\"5\",\".\",\".\",\".\",\"6\",\".\",\".\",\".\",\"4\"],\n",
    " [\".\",\".\",\".\",\"8\",\".\",\"3\",\".\",\".\",\"5\"],\n",
    " [\"7\",\".\",\".\",\".\",\"2\",\".\",\".\",\".\",\"6\"],\n",
    " [\".\",\".\",\".\",\".\",\".\",\".\",\"2\",\".\",\".\"],\n",
    " [\".\",\".\",\".\",\"4\",\"1\",\"9\",\".\",\".\",\"8\"],\n",
    " [\".\",\".\",\".\",\".\",\"8\",\".\",\".\",\"7\",\"9\"]]\n",
    "print(is_valid_sudoku(board))"
   ]
  },
  {
   "cell_type": "markdown",
   "id": "41a00695",
   "metadata": {},
   "source": [
    "### Longest Consecutive Sequence. <a id=\"part9\"></a>"
   ]
  },
  {
   "cell_type": "markdown",
   "id": "7e5e85d5",
   "metadata": {},
   "source": [
    "Given an array of integers nums, return the length of the longest consecutive sequence of elements.\n",
    "\n",
    "A consecutive sequence is a sequence of elements in which each element is exactly `1` greater than the previous element.\n",
    "\n",
    "You must write an algorithm that runs in $O(n)$ time."
   ]
  },
  {
   "cell_type": "code",
   "execution_count": 84,
   "id": "4d960e14",
   "metadata": {},
   "outputs": [],
   "source": [
    "def longestConsecutive(nums) : \n",
    "    if len(nums) == 0 : return 0 \n",
    "    if len(nums) == 1 : return nums[0] \n",
    "    nums.sort() #Ascending order by default. \n",
    "    res = 0 \n",
    "    compteur = 1 \n",
    "    for i in range(1, len(nums)) : \n",
    "        curr = nums[i]\n",
    "        prev = nums[i-1]\n",
    "        if(curr == prev + 1) : \n",
    "            compteur += 1\n",
    "        elif(curr != prev) : \n",
    "            res = max(res, compteur)\n",
    "            compteur = 1 \n",
    "    res = max(res, compteur)\n",
    "    return res"
   ]
  },
  {
   "cell_type": "code",
   "execution_count": 88,
   "id": "4c80d51f",
   "metadata": {},
   "outputs": [
    {
     "name": "stdout",
     "output_type": "stream",
     "text": [
      "4\n",
      "7\n"
     ]
    }
   ],
   "source": [
    "nums = [2,20,4,10,3,4,5]\n",
    "print(longestConsecutive(nums))\n",
    "\n",
    "nums = [0,3,2,5,4,6,1,1]\n",
    "print(longestConsecutive(nums))"
   ]
  }
 ],
 "metadata": {
  "kernelspec": {
   "display_name": "Python 3 (ipykernel)",
   "language": "python",
   "name": "python3"
  },
  "language_info": {
   "codemirror_mode": {
    "name": "ipython",
    "version": 3
   },
   "file_extension": ".py",
   "mimetype": "text/x-python",
   "name": "python",
   "nbconvert_exporter": "python",
   "pygments_lexer": "ipython3",
   "version": "3.10.9"
  }
 },
 "nbformat": 4,
 "nbformat_minor": 5
}
