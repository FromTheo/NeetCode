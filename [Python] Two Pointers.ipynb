{
 "cells": [
  {
   "cell_type": "markdown",
   "id": "63b8e5a8",
   "metadata": {},
   "source": [
    "# Two Pointers"
   ]
  },
  {
   "cell_type": "markdown",
   "id": "3f3fd0b7",
   "metadata": {},
   "source": [
    "## Table of contents : \n",
    "\n",
    "- [Valid Palindrome](#part1)\n",
    "- [Two Sum II](#part2) \n",
    "- [3 Sum](#part3) \n",
    "- [Container With Most Water](#part4) \n",
    "- [Trapping Rain Water](#part5) "
   ]
  },
  {
   "cell_type": "markdown",
   "id": "437d462d",
   "metadata": {},
   "source": [
    "### Valid Palindrome. <a id=\"part1\"></a>\n"
   ]
  },
  {
   "cell_type": "markdown",
   "id": "ceec663e",
   "metadata": {},
   "source": [
    "Given a string `s`, return `true` if it is a palindrome, otherwise return `false`.\n",
    "\n",
    "A palindrome is a string that reads the same forward and backward. It is also case-insensitive and ignores all non-alphanumeric characters."
   ]
  },
  {
   "cell_type": "code",
   "execution_count": 5,
   "id": "febed6a2",
   "metadata": {},
   "outputs": [],
   "source": [
    "def isPalindrome(s: str) -> bool:\n",
    "    t = []\n",
    "    for x in s:\n",
    "        if x != ' ' and (x.isalpha() or x.isdigit()):\n",
    "            x = x.lower()\n",
    "            t.append(x)\n",
    "    \n",
    "    for i in range(len(t)):\n",
    "        if t[i] != t[len(t)-i-1]:\n",
    "            return False\n",
    "    return True"
   ]
  },
  {
   "cell_type": "code",
   "execution_count": 7,
   "id": "46b0ecda",
   "metadata": {},
   "outputs": [
    {
     "name": "stdout",
     "output_type": "stream",
     "text": [
      "True\n",
      "False\n"
     ]
    }
   ],
   "source": [
    "s = \"Was it a car or a cat I saw?\"\n",
    "print(isPalindrome(s))\n",
    "\n",
    "s = \"tab a cat\"\n",
    "print(isPalindrome(s))"
   ]
  },
  {
   "cell_type": "markdown",
   "id": "250ccc83",
   "metadata": {},
   "source": [
    "### Two Sum II.<a id=\"part2\"></a>"
   ]
  },
  {
   "cell_type": "markdown",
   "id": "bbb4e747",
   "metadata": {},
   "source": [
    "Given an array of integers numbers that is sorted in **non-decreasing** order.\n",
    "\n",
    "Return the indices (1-indexed) of two numbers, `[index1, index2]`, such that they add up to a given target number `target` and `index1 < index2`. Note that `index1` and `index2` cannot be equal, therefore you may not use the same element twice.\n",
    "\n",
    "There will always be exactly one valid solution."
   ]
  },
  {
   "cell_type": "code",
   "execution_count": 15,
   "id": "580d3361",
   "metadata": {},
   "outputs": [],
   "source": [
    "def twoSum(numbers, target: int) : \n",
    "    i = 0\n",
    "    j = len(numbers) - 1\n",
    "    while i < j : \n",
    "        currentSum = numbers[i] + numbers[j]\n",
    "        if(currentSum > target) : \n",
    "            j -= 1 \n",
    "        elif(currentSum < target) : \n",
    "            i += 1\n",
    "        else :\n",
    "            return [i+1, j+1] \n",
    "    return []"
   ]
  },
  {
   "cell_type": "code",
   "execution_count": 16,
   "id": "ae9cfcf2",
   "metadata": {},
   "outputs": [
    {
     "data": {
      "text/plain": [
       "[1, 2]"
      ]
     },
     "execution_count": 16,
     "metadata": {},
     "output_type": "execute_result"
    }
   ],
   "source": [
    "numbers = [1,2,3,4]\n",
    "target = 3\n",
    "twoSum(numbers,target)\n"
   ]
  },
  {
   "cell_type": "markdown",
   "id": "1ed022bc",
   "metadata": {},
   "source": [
    "### 3 Sum. <a id=\"part3\"></a>"
   ]
  },
  {
   "cell_type": "markdown",
   "id": "2046fd37",
   "metadata": {},
   "source": [
    "Given an integer array nums, return all the triplets `[nums[i], nums[j], nums[k]]` where `nums[i] + nums[j] + nums[k] == 0`, and the indices `i`, `j` and `k` are all distinct.\n",
    "\n",
    "The output should not contain any duplicate triplets. You may return the output and the triplets in **any order**."
   ]
  },
  {
   "cell_type": "code",
   "execution_count": 19,
   "id": "e481f5af",
   "metadata": {},
   "outputs": [],
   "source": [
    "def threeSum(nums) :\n",
    "    nums.sort() #Ascending order by default. \n",
    "    res = []\n",
    "    for i in range(0, len(nums)) : \n",
    "        if i > 0 and nums[i] == nums[i-1] : \n",
    "            continue \n",
    "        j = i + 1 \n",
    "        k = len(nums) - 1 \n",
    "        while j < k : \n",
    "            total = nums[i] + nums[j] + nums[k]\n",
    "            if total > 0 : \n",
    "                k -= 1 \n",
    "            elif total < 0 : \n",
    "                j += 1 \n",
    "            else : \n",
    "                res.append([nums[i], nums[j], nums[k]])\n",
    "                j += 1 \n",
    "                while nums[j] == nums[j-1] and j < k : \n",
    "                    j += 1 \n",
    "    return res "
   ]
  },
  {
   "cell_type": "code",
   "execution_count": 20,
   "id": "eee343fb",
   "metadata": {},
   "outputs": [
    {
     "data": {
      "text/plain": [
       "[[-1, -1, 2], [-1, 0, 1]]"
      ]
     },
     "execution_count": 20,
     "metadata": {},
     "output_type": "execute_result"
    }
   ],
   "source": [
    "nums = [-1,0,1,2,-1,-4]\n",
    "threeSum(nums)"
   ]
  },
  {
   "cell_type": "markdown",
   "id": "318f65e4",
   "metadata": {},
   "source": [
    "### Container With Most Water. <a id=\"part4\"></a>"
   ]
  },
  {
   "cell_type": "markdown",
   "id": "2572e04e",
   "metadata": {},
   "source": [
    "You are given an integer array `heights` where `heights[i]` represents the height of the ith bar. \n",
    "\n",
    "You may choose any two bars to form a container. Return the maximum amount of water a container can store."
   ]
  },
  {
   "cell_type": "code",
   "execution_count": 21,
   "id": "5e7c5339",
   "metadata": {},
   "outputs": [],
   "source": [
    "def maxArea(height) : \n",
    "    left = 0 \n",
    "    right = len(height) - 1 \n",
    "    maxArea = 0 \n",
    "    while left < right : \n",
    "        currentArea = min(height[left], height[right]) * (right - left) \n",
    "        maxArea = max(maxArea, currentArea)\n",
    "        if height[left] < height[right] : \n",
    "            left += 1 \n",
    "        else : \n",
    "            right -= 1 \n",
    "    return maxArea"
   ]
  },
  {
   "cell_type": "code",
   "execution_count": 22,
   "id": "bff5953d",
   "metadata": {},
   "outputs": [
    {
     "data": {
      "text/plain": [
       "36"
      ]
     },
     "execution_count": 22,
     "metadata": {},
     "output_type": "execute_result"
    }
   ],
   "source": [
    "height = [1,7,2,5,4,7,3,6]\n",
    "maxArea(height)"
   ]
  },
  {
   "cell_type": "markdown",
   "id": "4fde64b5",
   "metadata": {},
   "source": [
    "### Trapping Rain Water. <a id=\"part5\"></a>"
   ]
  },
  {
   "cell_type": "markdown",
   "id": "ee01457f",
   "metadata": {},
   "source": [
    "You are given an array non-negative integers `heights` which represent an elevation map. Each value `heights[i]` represents the height of a bar, which has a width of 1.\n",
    "\n",
    "Return the maximum area of water that can be trapped between the bars."
   ]
  },
  {
   "cell_type": "code",
   "execution_count": 24,
   "id": "6b3620e6",
   "metadata": {},
   "outputs": [],
   "source": [
    "def trap(height) : \n",
    "    \n",
    "    if len(height) == 0 : \n",
    "        return 0 \n",
    "    \n",
    "    rep = 0 \n",
    "    left = 0\n",
    "    right = len(height) - 1 \n",
    "    l = height[left] \n",
    "    r = height[right]\n",
    "    \n",
    "    while left < right : \n",
    "        if l < r : \n",
    "            left += 1 \n",
    "            l = max(l, height[left])\n",
    "            rep += l - height[left]\n",
    "        else : \n",
    "            right -= 1 \n",
    "            r = max(r, height[right])\n",
    "            rep += r - height[right]\n",
    "            \n",
    "    return rep "
   ]
  },
  {
   "cell_type": "code",
   "execution_count": 26,
   "id": "fba9cfbf",
   "metadata": {},
   "outputs": [
    {
     "data": {
      "text/plain": [
       "9"
      ]
     },
     "execution_count": 26,
     "metadata": {},
     "output_type": "execute_result"
    }
   ],
   "source": [
    "height = [0,2,0,3,1,0,1,3,2,1]\n",
    "trap(height)"
   ]
  }
 ],
 "metadata": {
  "kernelspec": {
   "display_name": "Python 3 (ipykernel)",
   "language": "python",
   "name": "python3"
  },
  "language_info": {
   "codemirror_mode": {
    "name": "ipython",
    "version": 3
   },
   "file_extension": ".py",
   "mimetype": "text/x-python",
   "name": "python",
   "nbconvert_exporter": "python",
   "pygments_lexer": "ipython3",
   "version": "3.10.9"
  }
 },
 "nbformat": 4,
 "nbformat_minor": 5
}
