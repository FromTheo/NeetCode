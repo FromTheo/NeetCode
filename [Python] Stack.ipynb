{
 "cells": [
  {
   "cell_type": "markdown",
   "id": "d2e72b0a",
   "metadata": {},
   "source": [
    "# Stack"
   ]
  },
  {
   "cell_type": "markdown",
   "id": "631304ac",
   "metadata": {},
   "source": [
    "## Table of contents : \n"
   ]
  },
  {
   "cell_type": "markdown",
   "id": "0ed412e2",
   "metadata": {},
   "source": [
    "- [Valid Parentheses](#part1) \n",
    "- [Min Stack](#part2)\n",
    "- [Evaluate Reverse Polish Notation](#part3)\n",
    "- [Generate Parentheses](#part4)\n",
    "- [Daily Temperatures](#part5)\n",
    "- [Car Fleet](#part6)\n",
    "- [Largest Rectangle in Histogram](#part7)"
   ]
  },
  {
   "cell_type": "markdown",
   "id": "de7dea49",
   "metadata": {},
   "source": [
    "### Valid Parentheses. <a id=\"part1\"></a>"
   ]
  },
  {
   "cell_type": "markdown",
   "id": "e008e0fd",
   "metadata": {},
   "source": [
    "You are given a string s consisting of the following characters: `'('`, `')'`, `'{`', `'}'`, `'['` and `']'`.\n",
    "\n",
    "The input string `s` is valid if and only if:\n",
    "\n",
    "- Every open bracket is closed by the same type of close bracket.\n",
    "- Open brackets are closed in the correct order.\n",
    "- Every close bracket has a corresponding open bracket of the same type.\n",
    "\n",
    "Return `true` if s is a valid string, and `false` otherwise.\n",
    "\n"
   ]
  },
  {
   "cell_type": "code",
   "execution_count": 10,
   "id": "84901bd7",
   "metadata": {},
   "outputs": [],
   "source": [
    "def isValid(s) :\n",
    "    M = {\")\": \"(\", \"]\": \"[\", \"}\": \"{\"}\n",
    "    stack = []\n",
    "    for x in s:\n",
    "        if x in M:\n",
    "            if not stack or stack[-1] != M[x]:\n",
    "                return False\n",
    "            stack.pop()\n",
    "        else:\n",
    "            stack.append(x)\n",
    "    return not stack"
   ]
  },
  {
   "cell_type": "code",
   "execution_count": 11,
   "id": "0646eb29",
   "metadata": {},
   "outputs": [
    {
     "name": "stdout",
     "output_type": "stream",
     "text": [
      "True\n",
      "False\n"
     ]
    }
   ],
   "source": [
    "s = \"([{}])\"\n",
    "print(isValid(s))\n",
    "s = \"[(])\"\n",
    "print(isValid(s))"
   ]
  },
  {
   "cell_type": "markdown",
   "id": "3d4f5ea2",
   "metadata": {},
   "source": [
    "### Min Stack.<a id=\"part2\"></a>"
   ]
  },
  {
   "cell_type": "markdown",
   "id": "ee7044f7",
   "metadata": {},
   "source": [
    "Design a stack class that supports the `push`, `pop`, `top`, and `getMin` operations.\n",
    "\n",
    "- `MinStack()` initializes the stack object.\n",
    "- `void push(int val)` pushes the element val onto the stack.\n",
    "- `void pop()` removes the element on the top of the stack.\n",
    "- `int top()` gets the top element of the stack.\n",
    "- `int getMin()` retrieves the minimum element in the stack."
   ]
  },
  {
   "cell_type": "code",
   "execution_count": 15,
   "id": "0a21b4fc",
   "metadata": {},
   "outputs": [],
   "source": [
    "class MinStack:\n",
    "\n",
    "    def __init__(self):\n",
    "        self.stack = []\n",
    "        self.minStack = []\n",
    "\n",
    "    def push(self, val: int) -> None:\n",
    "        self.stack.append(val)\n",
    "        if not self.minStack or val <= self.minStack[-1]:\n",
    "            self.minStack.append(val)\n",
    "\n",
    "    def pop(self) -> None:\n",
    "        if self.stack:\n",
    "            if self.stack[-1] == self.minStack[-1]:\n",
    "                self.minStack.pop()\n",
    "            self.stack.pop()\n",
    "\n",
    "    def top(self) -> int:\n",
    "        if self.stack:\n",
    "            return self.stack[-1]\n",
    "\n",
    "    def getMin(self) -> int:\n",
    "        if self.minStack:\n",
    "            return self.minStack[-1]\n"
   ]
  },
  {
   "cell_type": "code",
   "execution_count": 20,
   "id": "01f053ca",
   "metadata": {},
   "outputs": [
    {
     "name": "stdout",
     "output_type": "stream",
     "text": [
      "0\n",
      "2\n",
      "1\n"
     ]
    }
   ],
   "source": [
    "minStack = MinStack()\n",
    "minStack.push(1)\n",
    "minStack.push(2)\n",
    "minStack.push(0)\n",
    "print(minStack.getMin())  \n",
    "minStack.pop()\n",
    "print(minStack.top())   \n",
    "print(minStack.getMin())  "
   ]
  },
  {
   "cell_type": "markdown",
   "id": "d551aec1",
   "metadata": {},
   "source": [
    "### Evaluate Reverse Polish Notation.<a id=\"part3\"></a>"
   ]
  },
  {
   "cell_type": "markdown",
   "id": "eb6bce4a",
   "metadata": {},
   "source": [
    "You are given an array of strings tokens that represents a valid arithmetic expression in Reverse Polish Notation.\n",
    "\n",
    "Return the integer that represents the evaluation of the expression.\n",
    "\n",
    "- The operands may be integers or the results of other operations.\n",
    "- The operators include `'+'`, `'-'`, `'*'`, and `'/'`.\n",
    "- Assume that division between integers always truncates toward zero."
   ]
  },
  {
   "cell_type": "code",
   "execution_count": 24,
   "id": "c441167a",
   "metadata": {},
   "outputs": [],
   "source": [
    "def evalRPN(tokens) : \n",
    "    stack = []\n",
    "    for token in tokens : \n",
    "        \n",
    "        if token == '+' or token == '-' or token == '*' or token == '/' : \n",
    "            operand2 = stack[-1]\n",
    "            stack.pop()\n",
    "            operand1 = stack[-1]\n",
    "            stack.pop()\n",
    "            \n",
    "            if token == '+' : \n",
    "                result = operand1 + operand2 \n",
    "            elif token == '-' : \n",
    "                result = operand1 - operand2 \n",
    "            elif token == '*' : \n",
    "                result = operand1 * operand2 \n",
    "            elif token == '/' : \n",
    "                result = operand1 / operand2 \n",
    "            stack.append(result) \n",
    "        \n",
    "        else : #Token is a number\n",
    "            stack.append(int(token))\n",
    "    return stack[-1]\n",
    "            "
   ]
  },
  {
   "cell_type": "code",
   "execution_count": 25,
   "id": "f9ae885a",
   "metadata": {},
   "outputs": [
    {
     "data": {
      "text/plain": [
       "5"
      ]
     },
     "execution_count": 25,
     "metadata": {},
     "output_type": "execute_result"
    }
   ],
   "source": [
    "tokens = [\"1\",\"2\",\"+\",\"3\",\"*\",\"4\",\"-\"]\n",
    "evalRPN(tokens)"
   ]
  },
  {
   "cell_type": "markdown",
   "id": "deefe55e",
   "metadata": {},
   "source": [
    "### Generate Parentheses. <a id=\"part4\"></a>"
   ]
  },
  {
   "cell_type": "markdown",
   "id": "13e528b6",
   "metadata": {},
   "source": [
    "You are given an integer `n`. Return all well-formed parentheses strings that you can generate with n pairs of parentheses."
   ]
  },
  {
   "cell_type": "code",
   "execution_count": 26,
   "id": "83e38002",
   "metadata": {},
   "outputs": [],
   "source": [
    "def backtrack(ans, n : int, open : int, close : int, cur_str : str) -> None : \n",
    "    if len(cur_str) == n * 2 : \n",
    "        ans.append(cur_str)\n",
    "        return \n",
    "    if open < n : \n",
    "        backtrack(ans, n, open + 1, close, cur_str + '(')\n",
    "    if close < open : \n",
    "        backtrack(ans, n, open, close + 1, cur_str + ')')"
   ]
  },
  {
   "cell_type": "code",
   "execution_count": 27,
   "id": "95a75a90",
   "metadata": {},
   "outputs": [],
   "source": [
    "def generateParenthesis(n : int) : \n",
    "    ans = []\n",
    "    backtrack(ans, n, 0, 0, '')\n",
    "    return ans "
   ]
  },
  {
   "cell_type": "code",
   "execution_count": 30,
   "id": "000e2869",
   "metadata": {},
   "outputs": [
    {
     "data": {
      "text/plain": [
       "['((()))', '(()())', '(())()', '()(())', '()()()']"
      ]
     },
     "execution_count": 30,
     "metadata": {},
     "output_type": "execute_result"
    }
   ],
   "source": [
    "generateParenthesis(3)"
   ]
  },
  {
   "cell_type": "markdown",
   "id": "b58335e4",
   "metadata": {},
   "source": [
    "### Daily Temperatures. <a id=\"part5\"></a>"
   ]
  },
  {
   "cell_type": "markdown",
   "id": "fa75b1c4",
   "metadata": {},
   "source": [
    "You are given an array of integers `temperatures` where `temperatures[i]` represents the daily temperatures on the ith day.\n",
    "\n",
    "Return an array `result` where `result[i]` is the number of days after the ith day before a warmer temperature appears on a future day. If there is no day in the future where a warmer temperature will appear for the ith day, set `result[i]` to 0 instead.\n",
    "\n"
   ]
  },
  {
   "cell_type": "markdown",
   "id": "e381aab0",
   "metadata": {},
   "source": [
    "#### 1st method : "
   ]
  },
  {
   "cell_type": "code",
   "execution_count": 33,
   "id": "0f4a7814",
   "metadata": {},
   "outputs": [],
   "source": [
    "def dailyTemperatures(temperatures) : \n",
    "    n = len(temperatures)\n",
    "    res = [0] * n\n",
    "    \n",
    "    for i in range(0, n) : \n",
    "        for j in range(i+1, n) : \n",
    "            if temperatures[j] > temperatures[i] : \n",
    "                res[i] = j - i \n",
    "                break \n",
    "    \n",
    "    return res "
   ]
  },
  {
   "cell_type": "code",
   "execution_count": 37,
   "id": "a44497c3",
   "metadata": {},
   "outputs": [
    {
     "name": "stdout",
     "output_type": "stream",
     "text": [
      "[1, 4, 1, 2, 1, 0, 0]\n",
      "[0, 0, 0]\n"
     ]
    }
   ],
   "source": [
    "temperatures = [30,38,30,36,35,40,28]\n",
    "print(dailyTemperatures(temperatures))\n",
    "\n",
    "temperatures = [22,21,20]\n",
    "print(dailyTemperatures(temperatures))"
   ]
  },
  {
   "cell_type": "markdown",
   "id": "88a68e8a",
   "metadata": {},
   "source": [
    "#### 2nd method : "
   ]
  },
  {
   "cell_type": "code",
   "execution_count": 38,
   "id": "a85e78a7",
   "metadata": {},
   "outputs": [],
   "source": [
    "def dailyTemperatures(temperatures) : \n",
    "    n = len(temperatures)\n",
    "    res = [0] * n\n",
    "    stack = []\n",
    "    for i in range(0, n) : \n",
    "        while stack and temperatures[stack[-1]] < temperatures[i] : \n",
    "            res[stack[-1]] = i - stack[-1]\n",
    "            stack.pop()\n",
    "        stack.append(i)\n",
    "    return res"
   ]
  },
  {
   "cell_type": "code",
   "execution_count": 39,
   "id": "78674beb",
   "metadata": {},
   "outputs": [
    {
     "name": "stdout",
     "output_type": "stream",
     "text": [
      "[1, 4, 1, 2, 1, 0, 0]\n",
      "[0, 0, 0]\n"
     ]
    }
   ],
   "source": [
    "temperatures = [30,38,30,36,35,40,28]\n",
    "print(dailyTemperatures(temperatures))\n",
    "\n",
    "temperatures = [22,21,20]\n",
    "print(dailyTemperatures(temperatures))"
   ]
  },
  {
   "cell_type": "markdown",
   "id": "5f6b3e0f",
   "metadata": {},
   "source": [
    "### Car Fleet. <a id=\"part6\"></a>"
   ]
  },
  {
   "cell_type": "markdown",
   "id": "a8465f23",
   "metadata": {},
   "source": [
    "There are n cars traveling to the same destination on a one-lane highway.\n",
    "\n",
    "You are given two arrays of integers position and speed, both of length n.\n",
    "\n",
    "- `position[i]` is the position of the ith car (in miles)\n",
    "- `speed[i]` is the speed of the ith car (in miles per hour)\n",
    "The destination is at position target miles.\n",
    "\n",
    "A car can not pass another car ahead of it. It can only catch up to another car and then drive at the same speed as the car ahead of it.\n",
    "\n",
    "A car fleet is a non-empty set of cars driving at the same position and same speed. A single car is also considered a car fleet.\n",
    "\n",
    "If a car catches up to a car fleet the moment the fleet reaches the destination, then the car is considered to be part of the fleet.\n",
    "\n",
    "Return the number of different car fleets that will arrive at the destination."
   ]
  },
  {
   "cell_type": "code",
   "execution_count": 44,
   "id": "1a8f9250",
   "metadata": {},
   "outputs": [],
   "source": [
    "def carFleet(target, position, speed) : \n",
    "    n = len(position)\n",
    "    pairs = []\n",
    "    for i in range (0, n) : \n",
    "        pairs.append([position[i], speed[i]])\n",
    "    pairs.sort(key = lambda p: p[0], reverse = True)\n",
    "    \n",
    "    compteur = 0 \n",
    "    time = [0] * n \n",
    "    for i in range(0, n) : \n",
    "        time[i] = (target - pairs[i][0]) / pairs[i][1]\n",
    "        if i >= 1 and time[i] <= time[i-1] : \n",
    "            time[i] = time[i-1] \n",
    "        else : \n",
    "            compteur += 1 \n",
    "    return compteur"
   ]
  },
  {
   "cell_type": "code",
   "execution_count": 46,
   "id": "34cdec73",
   "metadata": {},
   "outputs": [
    {
     "data": {
      "text/plain": [
       "3"
      ]
     },
     "execution_count": 46,
     "metadata": {},
     "output_type": "execute_result"
    }
   ],
   "source": [
    "target = 10 \n",
    "position = [4,1,0,7]\n",
    "speed = [2,2,1,1]\n",
    "carFleet(target, position, speed)"
   ]
  },
  {
   "cell_type": "markdown",
   "id": "743d281e",
   "metadata": {},
   "source": [
    "### Largest Rectangle In Histogram. <a id=\"part7\"></a>"
   ]
  },
  {
   "cell_type": "markdown",
   "id": "7da4e93c",
   "metadata": {},
   "source": [
    "You are given an array of integers `heights` where `heights[i]` represents the height of a bar. The width of each bar is `1`.\n",
    "\n",
    "Return the area of the largest rectangle that can be formed among the bars."
   ]
  },
  {
   "cell_type": "code",
   "execution_count": 47,
   "id": "25839ceb",
   "metadata": {},
   "outputs": [],
   "source": [
    "def largestRectangleArea(heights) : \n",
    "    stack = []\n",
    "    stack.append(-1)\n",
    "    maxArea = 0\n",
    "    \n",
    "    for i in range (0, len(heights)) : \n",
    "        while stack[-1] != -1 and heights[i] <= heights[stack[-1]] : \n",
    "            height = heights[stack[-1]]\n",
    "            stack.pop()\n",
    "            width = i - stack[-1] - 1 \n",
    "            maxArea = max(maxArea, height * width)\n",
    "        stack.append(i)\n",
    "        \n",
    "    while stack[-1] != -1 : \n",
    "        height = heights[stack[-1]]\n",
    "        stack.pop()\n",
    "        width = len(heights) - stack[-1] - 1\n",
    "        maxArea = max(maxArea, height * width)\n",
    "        \n",
    "    return maxArea"
   ]
  },
  {
   "cell_type": "code",
   "execution_count": 48,
   "id": "035cd2f6",
   "metadata": {},
   "outputs": [
    {
     "data": {
      "text/plain": [
       "8"
      ]
     },
     "execution_count": 48,
     "metadata": {},
     "output_type": "execute_result"
    }
   ],
   "source": [
    "heights = [7,1,7,2,2,4]\n",
    "largestRectangleArea(heights)"
   ]
  }
 ],
 "metadata": {
  "kernelspec": {
   "display_name": "Python 3 (ipykernel)",
   "language": "python",
   "name": "python3"
  },
  "language_info": {
   "codemirror_mode": {
    "name": "ipython",
    "version": 3
   },
   "file_extension": ".py",
   "mimetype": "text/x-python",
   "name": "python",
   "nbconvert_exporter": "python",
   "pygments_lexer": "ipython3",
   "version": "3.10.9"
  }
 },
 "nbformat": 4,
 "nbformat_minor": 5
}
