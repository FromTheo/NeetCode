{
 "cells": [
  {
   "cell_type": "markdown",
   "id": "ccca2693",
   "metadata": {},
   "source": [
    "# Binary Search "
   ]
  },
  {
   "cell_type": "markdown",
   "id": "6bb5515f",
   "metadata": {},
   "source": [
    "## Table of contents : \n",
    "\n",
    "- [Binary Search](#part1) \n",
    "- [Search 2D Matrix](#part2) \n",
    "- [Koko Eating Bananas](#part3) \n",
    "- [Find Minimum in Rotated Sorted Array](#part4) \n",
    "- [Search In Rotated Sorted Array](#part5) \n",
    "- [Time Based Key Value Store](#part6) \n",
    "- [Median of Two Sorted Arrays](#part7) \n"
   ]
  },
  {
   "cell_type": "markdown",
   "id": "4c4219c7",
   "metadata": {},
   "source": [
    "### Binary Search. <a id=\"part1\"></a>"
   ]
  },
  {
   "cell_type": "markdown",
   "id": "e88518be",
   "metadata": {},
   "source": [
    "You are given an array of distinct integers `nums`, sorted in ascending order, and an integer `target`.\n",
    "\n",
    "Implement a function to search for `target` within `nums`. If it exists, then return its index, otherwise, return `-1`.\n",
    "\n",
    "Your solution must run in \n",
    "$O(\\log n)$ time."
   ]
  },
  {
   "cell_type": "markdown",
   "id": "d1327d9f",
   "metadata": {},
   "source": [
    "#### 1st method : "
   ]
  },
  {
   "cell_type": "code",
   "execution_count": 1,
   "id": "297d2a41",
   "metadata": {},
   "outputs": [],
   "source": [
    "def search(nums, target):\n",
    "    try:\n",
    "        return nums.index(target)\n",
    "    except ValueError:\n",
    "        return -1"
   ]
  },
  {
   "cell_type": "code",
   "execution_count": 4,
   "id": "31254e0a",
   "metadata": {},
   "outputs": [
    {
     "data": {
      "text/plain": [
       "3"
      ]
     },
     "execution_count": 4,
     "metadata": {},
     "output_type": "execute_result"
    }
   ],
   "source": [
    "nums = [-1,0,2,4,6,8]\n",
    "target = 4\n",
    "search(nums, target)"
   ]
  },
  {
   "cell_type": "markdown",
   "id": "9a3cbe87",
   "metadata": {},
   "source": [
    "#### 2nd method : "
   ]
  },
  {
   "cell_type": "code",
   "execution_count": 5,
   "id": "83e42e56",
   "metadata": {},
   "outputs": [],
   "source": [
    "def search(nums, target) : \n",
    "    l = 0 \n",
    "    r = len(nums) - 1 \n",
    "    while l <= r : \n",
    "        m = l + (r - l)//2 \n",
    "        if nums[m] > target : \n",
    "            r = m - 1 \n",
    "        elif nums[m] < target : \n",
    "            l = m + 1 \n",
    "        else : \n",
    "            return m \n",
    "    return -1 "
   ]
  },
  {
   "cell_type": "code",
   "execution_count": 6,
   "id": "a1ed40e0",
   "metadata": {},
   "outputs": [
    {
     "data": {
      "text/plain": [
       "3"
      ]
     },
     "execution_count": 6,
     "metadata": {},
     "output_type": "execute_result"
    }
   ],
   "source": [
    "nums = [-1,0,2,4,6,8]\n",
    "target = 4\n",
    "search(nums, target)"
   ]
  },
  {
   "cell_type": "markdown",
   "id": "8287b7b6",
   "metadata": {},
   "source": [
    "### Search 2D Matrix. <a id=\"part2\"></a>"
   ]
  },
  {
   "cell_type": "markdown",
   "id": "e4fb0838",
   "metadata": {},
   "source": [
    "You are given an m x n 2-D integer array `matrix` and an integer `target`.\n",
    "\n",
    "Each row in `matrix` is sorted in non-decreasing order.\n",
    "The first integer of every row is greater than the last integer of the previous row.\n",
    "Return `true` if target exists within matrix or `false` otherwise.\n",
    "\n",
    "Can you write a solution that runs in $O(\\log (m * n))$ time?"
   ]
  },
  {
   "cell_type": "markdown",
   "id": "c09b0940",
   "metadata": {},
   "source": [
    "#### 1st method : "
   ]
  },
  {
   "cell_type": "code",
   "execution_count": 15,
   "id": "44c0730a",
   "metadata": {},
   "outputs": [],
   "source": [
    "def searchMatrix(matrix, target):\n",
    "    m = len(matrix)\n",
    "    n = len(matrix[0])\n",
    "    \n",
    "    if m == 1:\n",
    "        try:\n",
    "            return target in matrix[0]\n",
    "        except ValueError:\n",
    "            return False\n",
    "    \n",
    "    if n == 1:\n",
    "        values = [matrix[i][0] for i in range(m)]\n",
    "        try:\n",
    "            return target in values\n",
    "        except ValueError:\n",
    "            return False\n",
    "    \n",
    "    i = 0\n",
    "    while i < m and (target < matrix[i][0] or target > matrix[i][n-1]):\n",
    "        i += 1\n",
    "    \n",
    "    if i < m:\n",
    "        try:\n",
    "            return target in matrix[i]\n",
    "        except ValueError:\n",
    "            return False\n",
    "    return False\n"
   ]
  },
  {
   "cell_type": "code",
   "execution_count": 16,
   "id": "b092772d",
   "metadata": {},
   "outputs": [
    {
     "name": "stdout",
     "output_type": "stream",
     "text": [
      "True\n"
     ]
    }
   ],
   "source": [
    "matrix = [[1,2,4,8],[10,11,12,13],[14,20,30,40]]\n",
    "target = 10\n",
    "print(searchMatrix(matrix, target))"
   ]
  },
  {
   "cell_type": "markdown",
   "id": "52c68ef0",
   "metadata": {},
   "source": [
    "#### 2nd method :  "
   ]
  },
  {
   "cell_type": "code",
   "execution_count": 24,
   "id": "ea3894e5",
   "metadata": {},
   "outputs": [],
   "source": [
    "def searchMatrix(matrix, target) : \n",
    "    rows = len(matrix)\n",
    "    cols = len(matrix[0])\n",
    "    top = 0 \n",
    "    bottom = rows - 1 \n",
    "    \n",
    "    while top <= bottom:\n",
    "        row = (top + bottom) // 2\n",
    "        if target > matrix[row][-1]:\n",
    "            top = row + 1\n",
    "        elif target < matrix[row][0]:\n",
    "            bottom = row - 1\n",
    "        else:\n",
    "            break\n",
    "\n",
    "    if not (top <= bottom):\n",
    "        return False\n",
    "    \n",
    "    row = (top + bottom) // 2\n",
    "    l = 0\n",
    "    r = cols - 1\n",
    "    while l <= r:\n",
    "        m = (l + r) // 2\n",
    "        if target > matrix[row][m]:\n",
    "            l = m + 1\n",
    "        elif target < matrix[row][m]:\n",
    "            r = m - 1\n",
    "        else:\n",
    "            return True\n",
    "    return False\n"
   ]
  },
  {
   "cell_type": "code",
   "execution_count": 25,
   "id": "a3194876",
   "metadata": {},
   "outputs": [
    {
     "name": "stdout",
     "output_type": "stream",
     "text": [
      "True\n"
     ]
    }
   ],
   "source": [
    "matrix = [[1,2,4,8],[10,11,12,13],[14,20,30,40]]\n",
    "target = 10\n",
    "print(searchMatrix(matrix, target))"
   ]
  },
  {
   "cell_type": "markdown",
   "id": "fdeb527b",
   "metadata": {},
   "source": [
    "### Koko Eating Bananas. <a id=\"part3\"></a>"
   ]
  },
  {
   "cell_type": "markdown",
   "id": "1bf8a907",
   "metadata": {},
   "source": [
    "You are given an integer array `piles` where `piles[i]` is the number of bananas in the `ith` pile. You are also given an integer `h`, which represents the number of hours you have to eat all the bananas.\n",
    "\n",
    "You may decide your bananas-per-hour eating rate of k. Each hour, you may choose a pile of bananas and eats k bananas from that pile. If the pile has less than k bananas, you may finish eating the pile but you can not eat from another pile in the same hour.\n",
    "\n",
    "Return the minimum integer k such that you can eat all the bananas within `h` hours."
   ]
  },
  {
   "cell_type": "code",
   "execution_count": 35,
   "id": "8071acf0",
   "metadata": {},
   "outputs": [],
   "source": [
    "import math\n",
    "\n",
    "def minEatingSpeed(piles, h):\n",
    "    low = 1\n",
    "    high = max(piles)\n",
    "    n = len(piles)\n",
    "\n",
    "    res = high\n",
    "\n",
    "    while low <= high:\n",
    "        k = low + (high - low) // 2\n",
    "        hours = 0\n",
    "\n",
    "        for pile in piles:\n",
    "            hours += math.ceil(pile / k)\n",
    "        \n",
    "        if hours <= h:\n",
    "            res = min(res, k)\n",
    "            high = k - 1\n",
    "        else:\n",
    "            low = k + 1\n",
    "\n",
    "    return res"
   ]
  },
  {
   "cell_type": "code",
   "execution_count": 34,
   "id": "270c0887",
   "metadata": {},
   "outputs": [
    {
     "data": {
      "text/plain": [
       "25"
      ]
     },
     "execution_count": 34,
     "metadata": {},
     "output_type": "execute_result"
    }
   ],
   "source": [
    "piles = [25,10,23,4]\n",
    "h = 4\n",
    "minEatingSpeed(piles, h)"
   ]
  },
  {
   "cell_type": "markdown",
   "id": "10f45fce",
   "metadata": {},
   "source": [
    "### Find Minimum in Rotated Sorted Array. <a id=\"part4\"></a>"
   ]
  },
  {
   "cell_type": "markdown",
   "id": "2c46f539",
   "metadata": {},
   "source": [
    "You are given an array of length `n` which was originally sorted in ascending order. It has now been rotated between `1` and `n` times. For example, the array `nums = [1,2,3,4,5,6]` might become:\n",
    "\n",
    "- `[3,4,5,6,1,2]` if it was rotated `4` times.\n",
    "- `[1,2,3,4,5,6]` if it was rotated `6` times.\n",
    "Notice that rotating the array `4` times moves the last four elements of the array to the beginning. Rotating the array `6` times produces the original array.\n",
    "\n",
    "Assuming all elements in the rotated sorted array nums are unique, return the minimum element of this array.\n",
    "\n"
   ]
  },
  {
   "cell_type": "code",
   "execution_count": 43,
   "id": "ed4c1421",
   "metadata": {},
   "outputs": [],
   "source": [
    "def findMin(nums) : \n",
    "    left = 0\n",
    "    right = len(nums) - 1\n",
    "    current_min = float('inf')\n",
    "    \n",
    "    while left < right : \n",
    "        middle = left + (right - left) // 2 \n",
    "        current_min = min(current_min, nums[middle])\n",
    "        \n",
    "        if nums[middle] > nums[right] : \n",
    "            left = middle + 1 \n",
    "        \n",
    "        elif nums[middle] < nums[left] : \n",
    "            right = middle - 1 \n",
    "    \n",
    "    return min(current_min, nums[left])"
   ]
  },
  {
   "cell_type": "code",
   "execution_count": 44,
   "id": "a2ac1969",
   "metadata": {},
   "outputs": [
    {
     "data": {
      "text/plain": [
       "1"
      ]
     },
     "execution_count": 44,
     "metadata": {},
     "output_type": "execute_result"
    }
   ],
   "source": [
    "nums = [3,4,5,6,1,2]\n",
    "findMin(nums)"
   ]
  },
  {
   "cell_type": "markdown",
   "id": "f8d84729",
   "metadata": {},
   "source": [
    "### Find Target in Rotated Sorted Array. <a id=\"part5\"></a>"
   ]
  },
  {
   "cell_type": "markdown",
   "id": "a0a00240",
   "metadata": {},
   "source": [
    "Given the rotated sorted array `nums` and an integer `target`, return the index of target within nums, or $-1$ if it is not present.\n",
    "\n",
    "You may assume all elements in the sorted rotated array `nums` are unique. "
   ]
  },
  {
   "cell_type": "code",
   "execution_count": 60,
   "id": "c45f5929",
   "metadata": {},
   "outputs": [],
   "source": [
    "def search(nums, target) : \n",
    "    try : \n",
    "        res = nums.index(target)\n",
    "        return res\n",
    "    except ValueError: \n",
    "        return -1"
   ]
  },
  {
   "cell_type": "code",
   "execution_count": 62,
   "id": "206ff511",
   "metadata": {},
   "outputs": [
    {
     "name": "stdout",
     "output_type": "stream",
     "text": [
      "4\n",
      "-1\n"
     ]
    }
   ],
   "source": [
    "nums = [3,4,5,6,1,2]\n",
    "target = 1\n",
    "print(search(nums, target))\n",
    "\n",
    "nums = [3,5,6,0,1,2]\n",
    "target = 4\n",
    "print(search(nums, target))"
   ]
  },
  {
   "cell_type": "markdown",
   "id": "cefb3555",
   "metadata": {},
   "source": [
    "### Time Based Key-Value Store.<a id=\"part6\"></a>"
   ]
  },
  {
   "cell_type": "markdown",
   "id": "9913832c",
   "metadata": {},
   "source": [
    "Implement a time-based key-value data structure that supports:\n",
    "\n",
    "Storing multiple values for the same key at specified time stamps\n",
    "Retrieving the key's value at a specified timestamp\n",
    "Implement the `TimeMap` class:\n",
    "\n",
    "- `TimeMap()` Initializes the object.\n",
    "- `void set(String key, String value, int timestamp)` Stores the key key with the value value at the given time timestamp.\n",
    "- `string get(String key, int timestamp)` Returns the most recent value of key if set was previously called on it and the most recent timestamp for that key `prev_timestamp` is less than or equal to the given timestamp (prev_timestamp <= timestamp). If there are no values, it returns \"\"."
   ]
  },
  {
   "cell_type": "code",
   "execution_count": 48,
   "id": "a4cd3ab8",
   "metadata": {},
   "outputs": [],
   "source": [
    "class TimeMap:\n",
    "\n",
    "    def __init__(self):\n",
    "        self.keyStore = {}\n",
    "\n",
    "    def set(self, key: str, value: str, timestamp: int) -> None:\n",
    "        if key not in self.keyStore:\n",
    "            self.keyStore[key] = []\n",
    "        self.keyStore[key].append([value, timestamp])\n",
    "\n",
    "    def get(self, key: str, timestamp: int) -> str:\n",
    "        res, values = \"\", self.keyStore.get(key, [])\n",
    "        l, r = 0, len(values) - 1\n",
    "        while l <= r:\n",
    "            m = (l + r) // 2\n",
    "            if values[m][1] <= timestamp:\n",
    "                res = values[m][0]\n",
    "                l = m + 1\n",
    "            else:\n",
    "                r = m - 1\n",
    "        return res"
   ]
  },
  {
   "cell_type": "code",
   "execution_count": 57,
   "id": "fe55e64e",
   "metadata": {},
   "outputs": [
    {
     "name": "stdout",
     "output_type": "stream",
     "text": [
      "happy\n",
      "happy\n",
      "sad\n"
     ]
    }
   ],
   "source": [
    "timeMap = TimeMap()\n",
    "timeMap.set(\"alice\", \"happy\", 1)\n",
    "print(timeMap.get(\"alice\", 1))\n",
    "print(timeMap.get(\"alice\", 2))          \n",
    "timeMap.set(\"alice\", \"sad\", 3)    \n",
    "print(timeMap.get(\"alice\", 3))          "
   ]
  },
  {
   "cell_type": "markdown",
   "id": "27f92a10",
   "metadata": {},
   "source": [
    "### Median of Two Sorted Arrays. <a id=\"part7\"></a>"
   ]
  },
  {
   "cell_type": "markdown",
   "id": "e7f444c7",
   "metadata": {},
   "source": [
    "You are given two integer arrays `nums1` and `nums2` of size `m` and `n` respectively, where each is sorted in ascending order. Return the median value among all elements of the two arrays."
   ]
  },
  {
   "cell_type": "code",
   "execution_count": 58,
   "id": "cb370a08",
   "metadata": {},
   "outputs": [],
   "source": [
    "def findMedianSortedArrays(nums1, nums2):\n",
    "    nums = nums1 + nums2\n",
    "    nums.sort()\n",
    "    n = len(nums)\n",
    "\n",
    "    if n % 2 != 0:\n",
    "        return nums[n // 2]\n",
    "    else:\n",
    "        return (nums[n // 2 - 1] + nums[n // 2]) / 2.0"
   ]
  },
  {
   "cell_type": "code",
   "execution_count": 59,
   "id": "f5efec71",
   "metadata": {},
   "outputs": [
    {
     "data": {
      "text/plain": [
       "2.5"
      ]
     },
     "execution_count": 59,
     "metadata": {},
     "output_type": "execute_result"
    }
   ],
   "source": [
    "nums1 = [1,3] \n",
    "nums2 = [2,4]\n",
    "findMedianSortedArrays(nums1, nums2)"
   ]
  }
 ],
 "metadata": {
  "kernelspec": {
   "display_name": "Python 3 (ipykernel)",
   "language": "python",
   "name": "python3"
  },
  "language_info": {
   "codemirror_mode": {
    "name": "ipython",
    "version": 3
   },
   "file_extension": ".py",
   "mimetype": "text/x-python",
   "name": "python",
   "nbconvert_exporter": "python",
   "pygments_lexer": "ipython3",
   "version": "3.10.9"
  }
 },
 "nbformat": 4,
 "nbformat_minor": 5
}
